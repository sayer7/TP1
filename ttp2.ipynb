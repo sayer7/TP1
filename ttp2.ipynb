{
 "cells": [
  {
   "cell_type": "markdown",
   "metadata": {
    "id": "MJ_bcnQkbEmJ"
   },
   "source": [
    "#Ecercice 1:"
   ]
  },
  {
   "cell_type": "code",
   "execution_count": null,
   "metadata": {
    "id": "qpD0jmVna6Lh"
   },
   "outputs": [],
   "source": [
    "from numpy import prod\n",
    "def prog(x,y,c):\n",
    "    S = [] \n",
    "    n = len(x)\n",
    "    \n",
    "    for j in range(n):\n",
    "        L =[c-xx for xx in x]\n",
    "        for k in range(n):\n",
    "            if (k == j):                \n",
    "                L[k] = 1\n",
    "            else:\n",
    "                L[k] = L[k]/(x[j] - x[k])   \n",
    "        S.append(y[j]*prod(L))\n",
    "        \n",
    "    return  sum(S)"
   ]
  },
  {
   "cell_type": "code",
   "execution_count": null,
   "metadata": {
    "colab": {
     "base_uri": "https://localhost:8080/"
    },
    "id": "qQpuYSGMbX1N",
    "outputId": "e284773d-ec22-48a5-f5ad-e339d3f1258c"
   },
   "outputs": [
    {
     "name": "stdout",
     "output_type": "stream",
     "text": [
      "-1.0\n",
      "0.0\n",
      "2.0\n",
      "1.0\n",
      "3.0\n"
     ]
    },
    {
     "data": {
      "text/plain": [
       "8"
      ]
     },
     "execution_count": 4,
     "metadata": {},
     "output_type": "execute_result"
    }
   ],
   "source": [
    "X=[1 ,2 ,3 ,4,-2]\n",
    "Y=[-1, 0, 2 ,1,3]\n",
    "for i in X:\n",
    "    print(prog(X,Y,i))\n",
    "sum(X)"
   ]
  },
  {
   "cell_type": "markdown",
   "metadata": {
    "id": "SdRFWfwVa696"
   },
   "source": [
    "**Polynome d'interpolation de Lagrange**\n",
    "\n",
    "Soient $(x_0,y_0), \\ldots,(x_k,y_k),\\ldots ,(x_n,k_n)$ $n+1$ points deux à deux distincts, le polynôme d'interpolation de Lagrange associés à ces points supports est défini par :$$P_n(x)=\\sum_{k=0}^{n-1} y_kL_k(x)$$\n",
    "\n",
    "avec $L_{0}(x)=\\displaystyle\\frac{(x-x_1)(x-x_2)\\ldots(x-x_{n})}{(x_0-x_1)(x_0-x_2)\\ldots(x_0-x_{n})}$ et $L_{k}(x)=\\displaystyle\\frac{(x-x_1)(x-x_2)\\ldots(x-x_{k-1})(x-x_{k+1})\\ldots(x_0-x_{n})}{(x_k-x_0)(x_k-x_1)\\ldots(x_k-x_{k-1})(x_k-x_{k+1})\\ldots(x_k-x_{n})}$ pour $k\\in \\{1,\\ldots,n\\}$\n",
    "\n",
    "1) Que renvoie la fonction PR lorsqu'on lui déclare x=(x(1),x(2),...,x(n))x=(x(1),x(2),...,x(n)) et y=(y(1),y(2),...,y(n))y=(y(1),y(2),...,y(n)) deux vecteurs de même longueur n et c un nombre réel donné."
   ]
  },
  {
   "cell_type": "code",
   "execution_count": null,
   "metadata": {
    "id": "_ZFxQIrIbuk0"
   },
   "outputs": [],
   "source": [
    "from numpy import prod\n",
    "\n",
    "def PR(x,y,c):\n",
    "   S = [] \n",
    "   n = len(x)\n",
    "    \n",
    "   for j in range(n):\n",
    "        L =[c-xx for xx in x]\n",
    "        for k in range(n):\n",
    "            if (k == j):                \n",
    "                L[k] = 1\n",
    "            else:\n",
    "                L[k] = L[k]/(x[j] - x[k])   \n",
    "        S.append(y[j]*prod(L))\n",
    "        \n",
    "   return  sum(S)"
   ]
  },
  {
   "cell_type": "code",
   "execution_count": null,
   "metadata": {
    "colab": {
     "base_uri": "https://localhost:8080/"
    },
    "id": "wZVekwIGcnxk",
    "outputId": "48103c22-8fb6-4501-f7dc-8bc18e011aee"
   },
   "outputs": [
    {
     "name": "stdout",
     "output_type": "stream",
     "text": [
      "-1.0\n",
      "0.0\n",
      "2.0\n",
      "1.0\n"
     ]
    }
   ],
   "source": [
    "\n",
    "X=[1, 2, 3, 4]\n",
    "Y=[-1, 0, 2, 1]\n",
    "for i in X:\n",
    "  print(PR(X,Y,i))\n",
    "\n",
    "  \n"
   ]
  },
  {
   "cell_type": "markdown",
   "metadata": {
    "id": "K0qKVjcVgqUf"
   },
   "source": [
    "2)Que contient le vecteur LL après la fin de la boucle kk"
   ]
  },
  {
   "cell_type": "code",
   "execution_count": null,
   "metadata": {
    "id": "GYbCDWGVdzi9"
   },
   "outputs": [],
   "source": [
    "x=[1, 2, 3, 4]\n",
    "y=[-1, 0, 2, 1]"
   ]
  },
  {
   "cell_type": "code",
   "execution_count": null,
   "metadata": {
    "colab": {
     "base_uri": "https://localhost:8080/"
    },
    "id": "yIpwWN8Og9JL",
    "outputId": "68a7b500-7556-42d8-9a16-d7ad5d9945d4"
   },
   "outputs": [
    {
     "name": "stdout",
     "output_type": "stream",
     "text": [
      "2.0\n"
     ]
    }
   ],
   "source": [
    " S = [] \n",
    " n = len(x)\n",
    " for c in (X):\n",
    "    \n",
    "  for j in range(n):\n",
    "      L =[c-xx for xx in x]\n",
    "      for k in range(n):\n",
    "            if (k == j):                \n",
    "                L[k] = 1\n",
    "            else:\n",
    "                L[k] = L[k]/(x[j] - x[k])   \n",
    "      S.append(y[j]*prod(L))\n",
    "        \n",
    " print (sum(S))\n",
    " "
   ]
  },
  {
   "cell_type": "code",
   "execution_count": null,
   "metadata": {
    "colab": {
     "base_uri": "https://localhost:8080/"
    },
    "id": "JMXAkVYkhmEZ",
    "outputId": "e9782544-7a75-441e-cccb-8044431a455a"
   },
   "outputs": [
    {
     "data": {
      "text/plain": [
       "[1.0, 1.0, 1.0, 1]"
      ]
     },
     "execution_count": 17,
     "metadata": {},
     "output_type": "execute_result"
    }
   ],
   "source": [
    "L"
   ]
  },
  {
   "cell_type": "markdown",
   "metadata": {
    "id": "6ZFRXj33hs65"
   },
   "source": [
    "3°\n",
    "3) Utiliser cette fonction pour dessiner le graph du polynôme de Lagrange de la fonction $f(x) = \\dfrac{1}{1 + x^2}$ aux points $x=[-1:0.1:1]$."
   ]
  },
  {
   "cell_type": "code",
   "execution_count": null,
   "metadata": {
    "colab": {
     "base_uri": "https://localhost:8080/",
     "height": 265
    },
    "id": "0uOsYCiAhvsw",
    "outputId": "d66ec1b4-4d41-4681-91d1-624302ff71bd"
   },
   "outputs": [
    {
     "data": {
      "image/png": "[encoded data removed]",
      "text/plain": [
       "<Figure size 432x288 with 1 Axes>"
      ]
     },
     "metadata": {
      "needs_background": "light"
     },
     "output_type": "display_data"
    }
   ],
   "source": [
    "import matplotlib.pyplot as plt\n",
    "from numpy import linspace\n",
    "import numpy as np \n",
    "\n",
    "x=[-1, 0.1, 1]\n",
    "x=np.linspace(-1,1,100) \n",
    "f = lambda x: 1/(1+x**2)\n",
    "y=f(x)\n",
    "t=np.linspace(-1,1,100) \n",
    "pt=[]\n",
    "for u in t:\n",
    "    pt.append(PR(x,y,u))\n",
    "\n",
    "plt.plot(t,pt,'r',x,y,'bo',t,f(t),'g')\n",
    "plt.grid(True)\n",
    "plt.show()\n",
    "\n"
   ]
  },
  {
   "cell_type": "markdown",
   "metadata": {
    "id": "X2H050spkX4E"
   },
   "source": [
    "\n",
    "4) On considère la fonction $F$ suivante :$$\n",
    "F(h) = \\pi -\\cos \\left(\\frac{h}{2}\\right) + h \\sqrt{1-\\left(\\frac{h}{2}\\right)^2}, \\qquad\n",
    "h\\in [0,2],\n",
    "$$et les points d'interpolation $x_i = ih$, $0\\leq i\\leq n$, avec $ n=20$ et $h=0.1$.\n",
    "\n",
    "4.1) Représenter sur un même graphe la fonction $F$ et $p_n$, où $p_n$ est le polynôme d'interpolation de Lagrange de $F$ aux points $x_0,\\,\\ldots,\\,x_n$"
   ]
  },
  {
   "cell_type": "code",
   "execution_count": null,
   "metadata": {
    "colab": {
     "base_uri": "https://localhost:8080/",
     "height": 265
    },
    "id": "mqRsSX1ekaEp",
    "outputId": "06969915-c89b-42bd-bdc0-c72b913ef152"
   },
   "outputs": [
    {
     "data": {
      "image/png": "[encoded data removed]",
      "text/plain": [
       "<Figure size 432x288 with 1 Axes>"
      ]
     },
     "metadata": {
      "needs_background": "light"
     },
     "output_type": "display_data"
    }
   ],
   "source": [
    "import matplotlib.pyplot as plt\n",
    "from math import *\n",
    "from numpy import linspace\n",
    "import numpy as np \n",
    "\n",
    "x=np.linspace(0,2,10)\n",
    "\n",
    "f=lambda x: np.pi-np.cos(x/2)+x*np.sqrt(1-(x/2)**2)\n",
    "y=f(x)\n",
    "t=np.linspace(0,2,10) \n",
    "pn=[]\n",
    "for u in t:\n",
    "    pn.append(PR(x,y,u))\n",
    "\n",
    "\n",
    "plt.plot(t,pn,'r',x,y,'bo',t,f(t),'g')\n",
    "plt.show ()"
   ]
  },
  {
   "cell_type": "markdown",
   "metadata": {
    "id": "zts32la1k1Wr"
   },
   "source": [
    "\n",
    "2)Tracer la courbe d'erreur (la fonction $F-p_n$). Qu'observer vous."
   ]
  },
  {
   "cell_type": "code",
   "execution_count": null,
   "metadata": {
    "colab": {
     "base_uri": "https://localhost:8080/",
     "height": 276
    },
    "id": "qQ1FTvqok3na",
    "outputId": "f2197218-09b6-4857-c01f-a633ac570350"
   },
   "outputs": [
    {
     "data": {
      "image/png": "[encoded data removed]",
      "text/plain": [
       "<Figure size 432x288 with 1 Axes>"
      ]
     },
     "metadata": {
      "needs_background": "light"
     },
     "output_type": "display_data"
    }
   ],
   "source": [
    "import matplotlib.pyplot as plt\n",
    "from math import *\n",
    "from numpy import linspace\n",
    "import numpy as np \n",
    "\n",
    "x=np.linspace(0.75,1,50)\n",
    "f=lambda x: np.pi-np.cos(x/2)+x*np.sqrt(1-(x/2)**2)\n",
    "y=f(x)\n",
    "t=linspace(-1,1)\n",
    "pn=[]\n",
    "for u in t:\n",
    "    pn.append(PR(x,y,u))\n",
    "\n",
    "plt.plot(t,f(t)-pn,'r')\n",
    "plt.show()"
   ]
  },
  {
   "cell_type": "markdown",
   "metadata": {
    "id": "8ojlofw4lWwv"
   },
   "source": [
    "#Ecercice2:"
   ]
  },
  {
   "cell_type": "markdown",
   "metadata": {
    "id": "_1ftUWSzleEY"
   },
   "source": [
    "**Phenomène de Runge**"
   ]
  },
  {
   "cell_type": "markdown",
   "metadata": {
    "id": "kluQ96aAlfFB"
   },
   "source": [
    "\n",
    "1) Vérifier que sur $[-5,5]$ le polynôme d'interpolation de Lagrange de la fonction $f$ définie par $f(x)=\\displaystyle{\\frac{1}{1+x^2}}$, en $N$ points uniformément espacés ne convergent pas correctement aux voisinages de $-1$ et $1$, pour $N=7,8,9,10 ...$"
   ]
  },
  {
   "cell_type": "code",
   "execution_count": null,
   "metadata": {
    "id": "GFsqrEdTlrfU"
   },
   "outputs": [],
   "source": [
    "import matplotlib.pyplot as plt\n",
    "from numpy import linspace\n",
    "import numpy as np"
   ]
  },
  {
   "cell_type": "code",
   "execution_count": null,
   "metadata": {
    "colab": {
     "base_uri": "https://localhost:8080/",
     "height": 298
    },
    "id": "Te5FxhlRlbv9",
    "outputId": "5f53c328-d354-42ef-8c92-90371453cea4"
   },
   "outputs": [
    {
     "data": {
      "text/plain": [
       "Text(0.5, 1.0, 'Interpolation Equidistante avec N=10')"
      ]
     },
     "execution_count": 174,
     "metadata": {},
     "output_type": "execute_result"
    },
    {
     "data": {
      "image/png": "[encoded data removed]",
      "text/plain": [
       "<Figure size 432x288 with 4 Axes>"
      ]
     },
     "metadata": {
      "needs_background": "light"
     },
     "output_type": "display_data"
    }
   ],
   "source": [
    "import matplotlib.pyplot as plt\n",
    "from numpy import linspace\n",
    "import numpy as np\n",
    "N=7\n",
    "X=linspace(-5,5,N)\n",
    "f=lambda x: 1/(1+x**2)\n",
    "Y=f(X)\n",
    "p=np.polyfit(X,Y,N-1)\n",
    "t=linspace(-5,5,1000)\n",
    "plt.subplot(2,2,1)\n",
    "plt.plot(t,f(t),'r',X,Y,'ob', t, np.polyval(p,t),'g')\n",
    "plt.title(\"Interpolation Equidistante avec N=7\")\n",
    "#####################################################\n",
    "N=8\n",
    "X=linspace(-5,5,N)\n",
    "f=lambda x: 1/(1+x**2)\n",
    "Y=f(X)\n",
    "p=np.polyfit(X,Y,N-1)\n",
    "t=linspace(-5,5,1000)\n",
    "plt.subplot(2,2,2)\n",
    "plt.plot(t,f(t),'r',X,Y,'ob', t, np.polyval(p,t),'g')\n",
    "plt.title(\"Interpolation Equidistante avec N=8\")\n",
    "#######################################################\n",
    "N=9\n",
    "X=linspace(-5,5,N)\n",
    "f=lambda x: 1/(1+x**2)\n",
    "Y=f(X);\n",
    "p=np.polyfit(X,Y,N-1)\n",
    "t=linspace(-5,5,1000)\n",
    "plt.subplot(2,2,3)\n",
    "plt.plot(t,f(t),'r',X,Y,'ob', t, np.polyval(p,t),'g')\n",
    "plt.title(\"Interpolation Equidistante avec N=9\")\n",
    "#######################################################\n",
    "N=10\n",
    "X=linspace(-5,5,N)\n",
    "f=lambda x: 1/(1+x**2)\n",
    "Y=f(X);\n",
    "p=np.polyfit(X,Y,N-1)\n",
    "t=linspace(-5,5,1000)\n",
    "plt.subplot(2,2,4)\n",
    "plt.plot(t,f(t),'r',X,Y,'ob', t, np.polyval(p,t),'g')\n",
    "plt.title(\"Interpolation Equidistante avec N=10\")"
   ]
  },
  {
   "cell_type": "markdown",
   "metadata": {
    "id": "hlVzVhYVnhK8"
   },
   "source": [
    "2) Les points de Tchebycheff sur un intervalle $[a;b]$ sont définie par :$$x_k=\\dfrac{a+b}{2}+\\dfrac{a-b}{2}\\cos\\left(\\frac{k-1}{n-1}\\pi\\right)\\hspace{0.5cm} (k=1,..,n: x_1=a:x_n=b)$$\n",
    "\n",
    "Vérifier que sur $[-5; 5]$ ; l'interpolation polynômiale de $f(x) = \\dfrac{1}{1 + x^2}$ ; en $N$ points de Tchebychev est meilleure qu'une interpolation utilisant $N$ points uniforment espacés (on prendra $N=10, 11, 16, 17$)."
   ]
  },
  {
   "cell_type": "code",
   "execution_count": null,
   "metadata": {
    "id": "5C81Ddpgnh77"
   },
   "outputs": [],
   "source": [
    "import math\n",
    "import numpy as np\n",
    "def tcheb (a,b,n):\n",
    "  V=[]\n",
    "  for k in range (1,n):\n",
    "    V.append((a+b)/2+(a-b)/2*math.cos((k-1)/(n-1)*math.pi))\n",
    "  return V\n"
   ]
  },
  {
   "cell_type": "code",
   "execution_count": null,
   "metadata": {
    "colab": {
     "base_uri": "https://localhost:8080/"
    },
    "id": "oaQWL9HUiWtz",
    "outputId": "a1e9de66-1d47-404f-e327-100a71eb7113"
   },
   "outputs": [
    {
     "data": {
      "text/plain": [
       "[-5.0,\n",
       " -4.755282581475767,\n",
       " -4.045084971874737,\n",
       " -2.938926261462366,\n",
       " -1.5450849718747373,\n",
       " -3.061616997868383e-16,\n",
       " 1.5450849718747368,\n",
       " 2.938926261462365,\n",
       " 4.045084971874736,\n",
       " 4.755282581475767]"
      ]
     },
     "execution_count": 193,
     "metadata": {},
     "output_type": "execute_result"
    }
   ],
   "source": [
    "tcheb(-5,5,11)"
   ]
  },
  {
   "cell_type": "code",
   "execution_count": null,
   "metadata": {
    "colab": {
     "base_uri": "https://localhost:8080/",
     "height": 403
    },
    "id": "W9tHX82aoWLn",
    "outputId": "e974e312-4bc1-4394-bcd1-4c29e95a8d9e"
   },
   "outputs": [
    {
     "name": "stderr",
     "output_type": "stream",
     "text": [
      "/usr/local/lib/python3.7/dist-packages/IPython/core/interactiveshell.py:2882: RankWarning: Polyfit may be poorly conditioned\n",
      "  exec(code_obj, self.user_global_ns, self.user_ns)\n",
      "/usr/local/lib/python3.7/dist-packages/IPython/core/interactiveshell.py:2882: RankWarning: Polyfit may be poorly conditioned\n",
      "  exec(code_obj, self.user_global_ns, self.user_ns)\n",
      "/usr/local/lib/python3.7/dist-packages/IPython/core/interactiveshell.py:2882: RankWarning: Polyfit may be poorly conditioned\n",
      "  exec(code_obj, self.user_global_ns, self.user_ns)\n"
     ]
    },
    {
     "data": {
      "text/plain": [
       "Text(0.5, 1.0, 'Interpolation Equidistante avec N=17')"
      ]
     },
     "execution_count": 211,
     "metadata": {},
     "output_type": "execute_result"
    },
    {
     "data": {
      "image/png": "[encoded data removed]",
      "text/plain": [
       "<Figure size 432x288 with 4 Axes>"
      ]
     },
     "metadata": {
      "needs_background": "light"
     },
     "output_type": "display_data"
    }
   ],
   "source": [
    "import matplotlib.pyplot as plt\n",
    "from numpy import linspace\n",
    "import numpy as np\n",
    "N=10\n",
    "Xt=np.polynomial.chebyshev.Chebyshev(np.array([0]*10+[1])).roots()\n",
    "f= lambda x: 1/(1 + x**2)\n",
    "Yt=f(Xt)\n",
    "pt=np.polyfit(Xt,Yt,N-1)\n",
    "\n",
    "plt.subplot(2,2,1)\n",
    "plt.plot(t,f(t),'r',X,Y,'ob', t, np.polyval(p,t),'g')\n",
    "plt.title(\"Interpolation Equidistante avec N=10\")\n",
    "#####################################################\n",
    "N=11\n",
    "Xt=np.polynomial.chebyshev.Chebyshev(np.array([0]*10+[1])).roots()\n",
    "f=lambda x: 1/(1+ x**2)\n",
    "Yt=f(Xt)\n",
    "pt=np.polyfit(Xt,Yt,N-1)\n",
    "plt.subplot(2,2,2)\n",
    "plt.plot(t,f(t),'r',Xt,Yt,'ob', t,np.polyval(p,t),'g')\n",
    "plt.title(\"Interpolation Equidistante avec N=11\")\n",
    "#######################################################\n",
    "N=16\n",
    "Xt=np.polynomial.chebyshev.Chebyshev(np.array([0]*10+[1])).roots()\n",
    "f=lambda x: 1/(1+x**2)\n",
    "Yt=f(Xt);\n",
    "pt=np.polyfit(Xt,Yt,N-1)\n",
    "t=linspace(-5,5,1000)\n",
    "plt.subplot(2,2,3)\n",
    "plt.plot(t,f(t),'r',Xt,Yt,'ob', t, np.polyval(p,t),'g')\n",
    "plt.title(\"Interpolation Equidistante avec N=16\")\n",
    "#######################################################\n",
    "Xt=np.polynomial.chebyshev.Chebyshev(np.array([0]*10+[1])).roots()\n",
    "f=lambda x: 1/(1+x**2)\n",
    "Yt=f(Xt);\n",
    "pt=np.polyfit(Xt,Yt,N-1)\n",
    "t=linspace(-5,5,1000)\n",
    "plt.subplot(2,2,4)\n",
    "plt.plot(t,f(t),'r',Xt,Yt,'ob', t, np.polyval(p,t),'g')\n",
    "plt.title(\"Interpolation Equidistante avec N=17\")"
   ]
  },
  {
   "cell_type": "markdown",
   "metadata": {
    "id": "_GszyR6npRvL"
   },
   "source": []
  }
 ],
 "metadata": {
  "colab": {
   "name": "tp2.ipynb",
   "provenance": []
  },
  "kernelspec": {
   "display_name": "Python 3 (ipykernel)",
   "language": "python",
   "name": "python3"
  },
  "language_info": {
   "codemirror_mode": {
    "name": "ipython",
    "version": 3
   },
   "file_extension": ".py",
   "mimetype": "text/x-python",
   "name": "python",
   "nbconvert_exporter": "python",
   "pygments_lexer": "ipython3",
   "version": "3.9.7"
  }
 },
 "nbformat": 4,
 "nbformat_minor": 1
}
